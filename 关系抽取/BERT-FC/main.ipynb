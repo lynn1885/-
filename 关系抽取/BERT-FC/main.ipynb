{
 "cells": [
  {
   "cell_type": "code",
   "execution_count": 89,
   "metadata": {},
   "outputs": [],
   "source": [
    "import json\n",
    "import torch\n",
    "import torch.nn as nn\n",
    "from torch.utils.data import Dataset, DataLoader\n",
    "from transformers import BertModel, BertTokenizer, AdamW\n",
    "from sklearn.metrics import classification_report"
   ]
  },
  {
   "cell_type": "code",
   "execution_count": 90,
   "metadata": {},
   "outputs": [],
   "source": [
    "# 参数配置\n",
    "BATCH_SIZE = 16\n",
    "EPOCHS = 3\n",
    "LEARNING_RATE = 2e-5\n",
    "PRETRAINED_MODEL_NAME = \"bert-base-chinese\"\n",
    "MAX_LEN = 128"
   ]
  },
  {
   "cell_type": "code",
   "execution_count": 91,
   "metadata": {},
   "outputs": [
    {
     "name": "stdout",
     "output_type": "stream",
     "text": [
      "训练集： 100 {'rel': '主演', 'ent1': '周星驰', 'ent2': '喜剧之王', 'text': '如何演好自己的角色，请读《演员自我修养》《喜剧之王》周星驰崛起于穷困潦倒之中的独门秘笈'}\n",
      "测试集： 10 {'rel': '出生地', 'ent1': '圣地亚哥', 'ent2': '查尔斯·阿兰基斯', 'text': '查尔斯·阿兰基斯（Charles Aránguiz），1989年4月17日出生于智利圣地亚哥，智利职业足球运动员，司职中场，效力于德国足球甲级联赛勒沃库森足球俱乐部'}\n"
     ]
    }
   ],
   "source": [
    "# 读取数据\n",
    "def load_data(file_path):\n",
    "    with open(file_path, 'r', encoding='utf-8') as f:\n",
    "        data = [json.loads(line.strip()) for line in f]\n",
    "    return data\n",
    "# 数据加载\n",
    "train_data = load_data('train.json')\n",
    "test_data = load_data('test.json')\n",
    "print('训练集：', len(train_data), train_data[0])\n",
    "print('测试集：', len(test_data), test_data[0])"
   ]
  },
  {
   "cell_type": "code",
   "execution_count": 92,
   "metadata": {},
   "outputs": [
    {
     "name": "stdout",
     "output_type": "stream",
     "text": [
      "关系类型： 49\n"
     ]
    }
   ],
   "source": [
    "# 关系类型\n",
    "id2rel = {0: 'UNK', 1: '主演', 2: '歌手', 3: '简称', 4: '总部地点', 5: '导演', \n",
    "          6: '出生地', 7: '目', 8: '出生日期', 9: '占地面积', 10: '上映时间',\n",
    "          11: '出版社', 12: '作者', 13: '号', 14: '父亲', 15: '毕业院校', \n",
    "          16: '成立日期', 17: '改编自', 18: '主持人', 19: '所属专辑', \n",
    "          20: '连载网站', 21: '作词', 22: '作曲', 23: '创始人', 24: '丈夫', \n",
    "          25: '妻子', 26: '朝代', 27: '民族', 28: '国籍', 29: '身高', 30: '出品公司', \n",
    "          31: '母亲', 32: '编剧', 33: '首都', 34: '面积', 35: '祖籍', 36: '嘉宾', \n",
    "          37: '字', 38: '海拔', 39: '注册资本', 40: '制片人', 41: '董事长', 42: '所在城市',\n",
    "          43: '气候', 44: '人口数量', 45: '邮政编码', 46: '主角', 47: '官方语言', 48: '修业年限'}\n",
    "rel2id = {v: k for k, v in id2rel.items()}\n",
    "num_labels = len(rel2id)\n",
    "print('关系类型：', num_labels)"
   ]
  },
  {
   "cell_type": "code",
   "execution_count": 93,
   "metadata": {},
   "outputs": [],
   "source": [
    "# 创建自定义数据集\n",
    "class RelationExtractionDataset(Dataset):\n",
    "    def __init__(self, data, tokenizer, rel2id, max_len=128):\n",
    "        self.data = data\n",
    "        self.tokenizer = tokenizer\n",
    "        self.max_len = max_len\n",
    "\n",
    "    def __len__(self):\n",
    "        return len(self.data)\n",
    "\n",
    "    def __getitem__(self, idx):\n",
    "        item = self.data[idx]\n",
    "        text = item['text']\n",
    "        ent1 = item['ent1']\n",
    "        ent2 = item['ent2']\n",
    "        rel = item['rel']\n",
    "\n",
    "        # 构建带标记的句子\n",
    "        # 参考了这里的标注方式：https://github.com/buppt/ChineseNRE/blob/master/data/SemEval2010_task8_all_data/TRAIN_FILE.TXT\n",
    "        marked_text = text.replace(ent1, f\"<E1>{ent1}</E1>\").replace(ent2, f\"<E2>{ent2}</E2>\")\n",
    "\n",
    "        # print(123, marked_text)\n",
    "\n",
    "        inputs = self.tokenizer.encode_plus(\n",
    "            marked_text, \n",
    "            add_special_tokens=True, \n",
    "            max_length=self.max_len,\n",
    "            padding='max_length',\n",
    "            truncation=True,\n",
    "            return_tensors='pt'\n",
    "        )\n",
    "\n",
    "        input_ids = inputs['input_ids'].squeeze()\n",
    "        attention_mask = inputs['attention_mask'].squeeze()\n",
    "\n",
    "        return {\n",
    "            'input_ids': input_ids,\n",
    "            'attention_mask': attention_mask,\n",
    "            'label': rel2id[rel]\n",
    "        }"
   ]
  },
  {
   "cell_type": "code",
   "execution_count": 94,
   "metadata": {},
   "outputs": [],
   "source": [
    "tokenizer = BertTokenizer.from_pretrained(PRETRAINED_MODEL_NAME)\n",
    "\n",
    "train_dataset = RelationExtractionDataset(train_data, tokenizer, rel2id, MAX_LEN)\n",
    "test_dataset = RelationExtractionDataset(test_data, tokenizer, rel2id, MAX_LEN)\n",
    "\n",
    "train_loader = DataLoader(train_dataset, batch_size=BATCH_SIZE, shuffle=True)\n",
    "test_loader = DataLoader(test_dataset, batch_size=BATCH_SIZE, shuffle=False)"
   ]
  },
  {
   "cell_type": "code",
   "execution_count": 95,
   "metadata": {},
   "outputs": [
    {
     "data": {
      "text/plain": [
       "{'input_ids': tensor([ 101, 1963,  862, 4028, 1962, 5632, 2346, 4638, 6235, 5682, 8024, 6435,\n",
       "         6438,  517, 4028, 1447, 5632, 2769,  934, 1075,  518,  517,  133,  100,\n",
       "          135, 1599, 1196,  722, 4374,  133,  120,  100,  135,  518,  133,  100,\n",
       "          135, 1453, 3215, 7720,  133,  120,  100,  135, 2307, 6629,  754, 4956,\n",
       "         1737, 4057,  948,  722,  704, 4638, 4324, 7305, 4908, 5007,  102,    0,\n",
       "            0,    0,    0,    0,    0,    0,    0,    0,    0,    0,    0,    0,\n",
       "            0,    0,    0,    0,    0,    0,    0,    0,    0,    0,    0,    0,\n",
       "            0,    0,    0,    0,    0,    0,    0,    0,    0,    0,    0,    0,\n",
       "            0,    0,    0,    0,    0,    0,    0,    0,    0,    0,    0,    0,\n",
       "            0,    0,    0,    0,    0,    0,    0,    0,    0,    0,    0,    0,\n",
       "            0,    0,    0,    0,    0,    0,    0,    0]),\n",
       " 'attention_mask': tensor([1, 1, 1, 1, 1, 1, 1, 1, 1, 1, 1, 1, 1, 1, 1, 1, 1, 1, 1, 1, 1, 1, 1, 1,\n",
       "         1, 1, 1, 1, 1, 1, 1, 1, 1, 1, 1, 1, 1, 1, 1, 1, 1, 1, 1, 1, 1, 1, 1, 1,\n",
       "         1, 1, 1, 1, 1, 1, 1, 1, 1, 1, 1, 0, 0, 0, 0, 0, 0, 0, 0, 0, 0, 0, 0, 0,\n",
       "         0, 0, 0, 0, 0, 0, 0, 0, 0, 0, 0, 0, 0, 0, 0, 0, 0, 0, 0, 0, 0, 0, 0, 0,\n",
       "         0, 0, 0, 0, 0, 0, 0, 0, 0, 0, 0, 0, 0, 0, 0, 0, 0, 0, 0, 0, 0, 0, 0, 0,\n",
       "         0, 0, 0, 0, 0, 0, 0, 0]),\n",
       " 'label': 1}"
      ]
     },
     "execution_count": 95,
     "metadata": {},
     "output_type": "execute_result"
    }
   ],
   "source": [
    "# 测试下数据访问\n",
    "train_dataset[0]"
   ]
  },
  {
   "cell_type": "code",
   "execution_count": 96,
   "metadata": {},
   "outputs": [],
   "source": [
    "\n",
    "# 模型定义\n",
    "class BertForRelationExtraction(nn.Module):\n",
    "    def __init__(self, num_labels):\n",
    "        super(BertForRelationExtraction, self).__init__()\n",
    "        self.bert = BertModel.from_pretrained(PRETRAINED_MODEL_NAME)\n",
    "        self.dropout = nn.Dropout(0.3)\n",
    "        self.classifier = nn.Linear(self.bert.config.hidden_size, num_labels) # 建模为简单的多分类任务\n",
    "\n",
    "    def forward(self, input_ids, attention_mask=None, labels=None):\n",
    "        outputs = self.bert(input_ids, attention_mask=attention_mask)\n",
    "        # pooler就是将[CLS]这个token再过一下全连接层+Tanh激活函数，作为该句子的特征向量\n",
    "        # https://blog.csdn.net/zhaohongfei_358/article/details/127960742\n",
    "        pooled_output = outputs.pooler_output\n",
    "        pooled_output = self.dropout(pooled_output)\n",
    "        logits = self.classifier(pooled_output)\n",
    "        # print(111, logits)\n",
    "        # print(222, labels)\n",
    "\n",
    "        loss = None\n",
    "        if labels is not None:\n",
    "            loss_fn = nn.CrossEntropyLoss()\n",
    "            loss = loss_fn(logits, labels)\n",
    "\n",
    "        return loss, logits"
   ]
  },
  {
   "cell_type": "code",
   "execution_count": 97,
   "metadata": {},
   "outputs": [
    {
     "name": "stderr",
     "output_type": "stream",
     "text": [
      "Some weights of the model checkpoint at bert-base-chinese were not used when initializing BertModel: ['cls.predictions.transform.LayerNorm.bias', 'cls.seq_relationship.weight', 'cls.predictions.transform.dense.bias', 'cls.predictions.transform.dense.weight', 'cls.predictions.decoder.weight', 'cls.predictions.bias', 'cls.seq_relationship.bias', 'cls.predictions.transform.LayerNorm.weight']\n",
      "- This IS expected if you are initializing BertModel from the checkpoint of a model trained on another task or with another architecture (e.g. initializing a BertForSequenceClassification model from a BertForPreTraining model).\n",
      "- This IS NOT expected if you are initializing BertModel from the checkpoint of a model that you expect to be exactly identical (initializing a BertForSequenceClassification model from a BertForSequenceClassification model).\n",
      "d:\\softwares\\python\\lib\\site-packages\\transformers\\optimization.py:407: FutureWarning: This implementation of AdamW is deprecated and will be removed in a future version. Use the PyTorch implementation torch.optim.AdamW instead, or set `no_deprecation_warning=True` to disable this warning\n",
      "  warnings.warn(\n"
     ]
    }
   ],
   "source": [
    "# 创建模型\n",
    "device = torch.device('cuda' if torch.cuda.is_available() else 'cpu')\n",
    "model = BertForRelationExtraction(num_labels).to(device)\n",
    "optimizer = AdamW(model.parameters(), lr=LEARNING_RATE)"
   ]
  },
  {
   "cell_type": "code",
   "execution_count": 98,
   "metadata": {},
   "outputs": [],
   "source": [
    "# 训练函数\n",
    "def train(model, dataloader, optimizer, device, epochs=EPOCHS):\n",
    "    model.train()\n",
    "    for epoch in range(epochs):\n",
    "        total_loss = 0\n",
    "        for i, batch in enumerate(dataloader):\n",
    "            input_ids = batch['input_ids'].to(device)\n",
    "            attention_mask = batch['attention_mask'].to(device)\n",
    "            labels = batch['label'].to(device)\n",
    "\n",
    "            optimizer.zero_grad()\n",
    "            loss, _ = model(input_ids, attention_mask=attention_mask, labels=labels)\n",
    "            loss.backward()\n",
    "            optimizer.step()\n",
    "            total_loss += loss.item()\n",
    "\n",
    "            if (i + 1) % 2 == 0:\n",
    "                print(f\"Epoch {epoch+1}/{epochs}, Batch {i+1}/{len(dataloader)}, Loss: {total_loss / (i+1):.4f}\")\n",
    "\n",
    "        print(f\"Epoch {epoch+1} completed. Average Loss: {total_loss / len(dataloader):.4f}\")"
   ]
  },
  {
   "cell_type": "code",
   "execution_count": 99,
   "metadata": {},
   "outputs": [],
   "source": [
    "# 评估函数\n",
    "def evaluate(model, dataloader, device):\n",
    "    model.eval()\n",
    "    total_loss = 0\n",
    "    preds = []\n",
    "    true_labels = []\n",
    "    with torch.no_grad():\n",
    "        for batch in dataloader:\n",
    "            input_ids = batch['input_ids'].to(device)\n",
    "            attention_mask = batch['attention_mask'].to(device)\n",
    "            labels = batch['label'].to(device)\n",
    "\n",
    "            loss, logits = model(input_ids, attention_mask=attention_mask, labels=labels)\n",
    "            total_loss += loss.item()\n",
    "            preds.extend(torch.argmax(logits, dim=1).cpu().numpy())\n",
    "            true_labels.extend(labels.cpu().numpy())\n",
    "\n",
    "    avg_loss = total_loss / len(dataloader)\n",
    "    pred_tags = [id2rel[pred] for pred in preds]\n",
    "    true_tags = [id2rel[label] for label in true_labels]\n",
    "    \n",
    "    report = classification_report([true_tags], [pred_tags])\n",
    "    return avg_loss, report"
   ]
  },
  {
   "cell_type": "code",
   "execution_count": 105,
   "metadata": {},
   "outputs": [],
   "source": [
    "# 评估函数\n",
    "def evaluate(model, dataloader, device):\n",
    "    model.eval()\n",
    "    total_loss = 0\n",
    "    preds = []\n",
    "    true_labels = []\n",
    "    with torch.no_grad():\n",
    "        for batch in dataloader:\n",
    "            input_ids = batch['input_ids'].to(device)\n",
    "            attention_mask = batch['attention_mask'].to(device)\n",
    "            labels = batch['label'].to(device)\n",
    "            # print(111, labels)\n",
    "\n",
    "            loss, logits = model(input_ids, attention_mask=attention_mask, labels=labels)\n",
    "            # print(222, logits)\n",
    "\n",
    "            total_loss += loss.item()\n",
    "            preds.extend(torch.argmax(logits, dim=1).cpu().numpy())\n",
    "            true_labels.extend(labels.cpu().numpy())\n",
    "    # print(333, true_labels)\n",
    "    # print(444, preds)\n",
    "    avg_loss = total_loss / len(dataloader)\n",
    "    pred_tags = [id2rel[id] for id in preds]\n",
    "    true_tags = [id2rel[id] for id in true_labels]\n",
    "    report = classification_report(true_tags, pred_tags)\n",
    "    print(555, pred_tags)\n",
    "    print(666, true_tags)\n",
    "    print(f\"Test Loss: {avg_loss:.4f}\")\n",
    "    print(f\"Test Report:\\n{report}\") "
   ]
  },
  {
   "cell_type": "code",
   "execution_count": 104,
   "metadata": {},
   "outputs": [],
   "source": [
    "# 预测函数\n",
    "def predict(model, tokenizer, text, ent1, ent2, device):\n",
    "    marked_text = text.replace(ent1, f\"<E1>{ent1}</E1>\").replace(ent2, f\"<E2>{ent2}</E2>\")\n",
    "    inputs = tokenizer.encode_plus(\n",
    "        marked_text, \n",
    "        add_special_tokens=True, \n",
    "        max_length=MAX_LEN,\n",
    "        padding='max_length',\n",
    "        truncation=True,\n",
    "        return_tensors='pt'\n",
    "    )\n",
    "\n",
    "    input_ids = inputs['input_ids'].to(device)\n",
    "    attention_mask = inputs['attention_mask'].to(device)\n",
    "\n",
    "    model.eval()\n",
    "    with torch.no_grad():\n",
    "        _, logits = model(input_ids, attention_mask=attention_mask)\n",
    "        pred = torch.argmax(logits, dim=1).cpu().numpy()[0]\n",
    "\n",
    "    return id2rel[pred]"
   ]
  },
  {
   "cell_type": "code",
   "execution_count": 102,
   "metadata": {},
   "outputs": [
    {
     "name": "stdout",
     "output_type": "stream",
     "text": [
      "Epoch 1/3, Batch 2/7, Loss: 4.0118\n",
      "Epoch 1/3, Batch 4/7, Loss: 4.0015\n",
      "Epoch 1/3, Batch 6/7, Loss: 3.9663\n",
      "Epoch 1 completed. Average Loss: 3.9788\n",
      "Epoch 2/3, Batch 2/7, Loss: 3.8110\n",
      "Epoch 2/3, Batch 4/7, Loss: 3.8130\n",
      "Epoch 2/3, Batch 6/7, Loss: 3.7637\n",
      "Epoch 2 completed. Average Loss: 3.6701\n",
      "Epoch 3/3, Batch 2/7, Loss: 3.6708\n",
      "Epoch 3/3, Batch 4/7, Loss: 3.5528\n",
      "Epoch 3/3, Batch 6/7, Loss: 3.4983\n",
      "Epoch 3 completed. Average Loss: 3.4159\n"
     ]
    }
   ],
   "source": [
    "# 训练模型\n",
    "train(model, train_loader, optimizer, device)"
   ]
  },
  {
   "cell_type": "code",
   "execution_count": 106,
   "metadata": {},
   "outputs": [
    {
     "name": "stdout",
     "output_type": "stream",
     "text": [
      "555 ['出生日期', '出生日期', '作者', '作者', '主演', '主演', '出生日期', '出生日期', '作者', '作者']\n",
      "666 ['出生地', '出生日期', '歌手', '作曲', '出品公司', '导演', '妻子', '丈夫', '作者', '作者']\n",
      "Test Loss: 3.2158\n",
      "Test Report:\n",
      "              precision    recall  f1-score   support\n",
      "\n",
      "          丈夫       0.00      0.00      0.00         1\n",
      "          主演       0.00      0.00      0.00         0\n",
      "          作曲       0.00      0.00      0.00         1\n",
      "          作者       0.50      1.00      0.67         2\n",
      "        出品公司       0.00      0.00      0.00         1\n",
      "         出生地       0.00      0.00      0.00         1\n",
      "        出生日期       0.25      1.00      0.40         1\n",
      "          妻子       0.00      0.00      0.00         1\n",
      "          导演       0.00      0.00      0.00         1\n",
      "          歌手       0.00      0.00      0.00         1\n",
      "\n",
      "    accuracy                           0.30        10\n",
      "   macro avg       0.07      0.20      0.11        10\n",
      "weighted avg       0.12      0.30      0.17        10\n",
      "\n"
     ]
    },
    {
     "name": "stderr",
     "output_type": "stream",
     "text": [
      "d:\\softwares\\python\\lib\\site-packages\\sklearn\\metrics\\_classification.py:1344: UndefinedMetricWarning: Precision and F-score are ill-defined and being set to 0.0 in labels with no predicted samples. Use `zero_division` parameter to control this behavior.\n",
      "  _warn_prf(average, modifier, msg_start, len(result))\n",
      "d:\\softwares\\python\\lib\\site-packages\\sklearn\\metrics\\_classification.py:1344: UndefinedMetricWarning: Recall and F-score are ill-defined and being set to 0.0 in labels with no true samples. Use `zero_division` parameter to control this behavior.\n",
      "  _warn_prf(average, modifier, msg_start, len(result))\n",
      "d:\\softwares\\python\\lib\\site-packages\\sklearn\\metrics\\_classification.py:1344: UndefinedMetricWarning: Precision and F-score are ill-defined and being set to 0.0 in labels with no predicted samples. Use `zero_division` parameter to control this behavior.\n",
      "  _warn_prf(average, modifier, msg_start, len(result))\n",
      "d:\\softwares\\python\\lib\\site-packages\\sklearn\\metrics\\_classification.py:1344: UndefinedMetricWarning: Recall and F-score are ill-defined and being set to 0.0 in labels with no true samples. Use `zero_division` parameter to control this behavior.\n",
      "  _warn_prf(average, modifier, msg_start, len(result))\n",
      "d:\\softwares\\python\\lib\\site-packages\\sklearn\\metrics\\_classification.py:1344: UndefinedMetricWarning: Precision and F-score are ill-defined and being set to 0.0 in labels with no predicted samples. Use `zero_division` parameter to control this behavior.\n",
      "  _warn_prf(average, modifier, msg_start, len(result))\n",
      "d:\\softwares\\python\\lib\\site-packages\\sklearn\\metrics\\_classification.py:1344: UndefinedMetricWarning: Recall and F-score are ill-defined and being set to 0.0 in labels with no true samples. Use `zero_division` parameter to control this behavior.\n",
      "  _warn_prf(average, modifier, msg_start, len(result))\n"
     ]
    }
   ],
   "source": [
    "# 评估模型\n",
    "evaluate(model, test_loader, device)"
   ]
  },
  {
   "cell_type": "code",
   "execution_count": 107,
   "metadata": {},
   "outputs": [
    {
     "name": "stdout",
     "output_type": "stream",
     "text": [
      "Predicted Relation: 出生日期\n"
     ]
    }
   ],
   "source": [
    "# 预测\n",
    "sample_text = \"韦棣华女士1861年8月22日出生于美国纽约州\"\n",
    "sample_ent1 = \"韦棣华\"\n",
    "sample_ent2 = \"美国纽约州\"\n",
    "predicted_relation = predict(model, tokenizer, sample_text, sample_ent1, sample_ent2, device)\n",
    "print(f\"Predicted Relation: {predicted_relation}\")"
   ]
  }
 ],
 "metadata": {
  "kernelspec": {
   "display_name": "Python 3",
   "language": "python",
   "name": "python3"
  },
  "language_info": {
   "codemirror_mode": {
    "name": "ipython",
    "version": 3
   },
   "file_extension": ".py",
   "mimetype": "text/x-python",
   "name": "python",
   "nbconvert_exporter": "python",
   "pygments_lexer": "ipython3",
   "version": "3.10.6"
  }
 },
 "nbformat": 4,
 "nbformat_minor": 2
}
